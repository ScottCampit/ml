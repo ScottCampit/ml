{
 "cells": [
  {
   "cell_type": "markdown",
   "metadata": {
    "colab_type": "text",
    "id": "6bjAFH8-NUgf"
   },
   "source": [
    "# Linear regression tutorial\n",
    "**Author:** Scott Campit"
   ]
  },
  {
   "cell_type": "markdown",
   "metadata": {
    "colab_type": "text",
    "id": "nf4qm53OOFJB"
   },
   "source": [
    "## Summary\n",
    "This notebook is a tutorial to write up a linear regressor written from scratch. We will use the carbig dataset built into MATLAB to predict MPG based on all other numerical datasets that are not categoricals. First, we will build a linear regressor using gradient descent. Then we will use the normal equation to compute the regression coefficient. Finally, we'll use sklearn functions to train a model."
   ]
  },
  {
   "cell_type": "markdown",
   "metadata": {
    "colab_type": "text",
    "id": "S6QTNAgIPGjj"
   },
   "source": [
    "## Construct the regression dataset\n",
    "Let X be attributes that are useful to predict MPG, which includes:\n",
    "\n",
    "\n",
    "1.   Acceleration\n",
    "2.   Displacement\n",
    "3.   Horsepower\n",
    "4.   Weight\n",
    "\n",
    "Y is the MPG associated with the given attributes."
   ]
  },
  {
   "cell_type": "code",
   "execution_count": 27,
   "metadata": {
    "colab": {
     "base_uri": "https://localhost:8080/",
     "height": 72
    },
    "colab_type": "code",
    "id": "1Pbm40gMPFqV",
    "outputId": "3ab0aa1d-6f71-4f2a-fecc-b3a7015e879c"
   },
   "outputs": [
    {
     "name": "stdout",
     "output_type": "stream",
     "text": [
      "[[-0.61743969 -0.39377463 -0.52797367  2.03014805]\n",
      " [-0.61781878 -0.36117261 -0.50143714  2.17344532]\n",
      " [-0.61819788 -0.38543458 -0.51280994  1.97859136]\n",
      " ...\n",
      " [-0.61774297 -0.52418273 -0.56285025  1.1135004 ]\n",
      " [-0.61243566 -0.53555553 -0.56664119  1.36370199]\n",
      " [-0.61182911 -0.53631372 -0.56436663  1.43572972]]\n",
      "6\n",
      "(392, 4)\n",
      "(392, 1)\n",
      "[[-0.61743969 -0.39377463 -0.52797367  2.03014805]\n",
      " [-0.61781878 -0.36117261 -0.50143714  2.17344532]\n",
      " [-0.61819788 -0.38543458 -0.51280994  1.97859136]\n",
      " ...\n",
      " [-0.61774297 -0.52418273 -0.56285025  1.1135004 ]\n",
      " [-0.61243566 -0.53555553 -0.56664119  1.36370199]\n",
      " [-0.61182911 -0.53631372 -0.56436663  1.43572972]]\n"
     ]
    }
   ],
   "source": [
    "import numpy as np\n",
    "\n",
    "# Load files into Google Colab using GUI\n",
    "#from google.colab import files\n",
    "#files.upload()\n",
    "\n",
    "# This code loads the .mat files into a dict, then extracting the values into a numpy array.\n",
    "import scipy.io\n",
    "X = scipy.io.loadmat('X.mat')\n",
    "Y = scipy.io.loadmat('Y.mat')\n",
    "X = X['X']\n",
    "Y = Y['Y']\n",
    "\n",
    "# Normalize the data\n",
    "mu = np.nanmean(X)\n",
    "sigma = np.nanstd(X)\n",
    "X = np.divide((X - mu), sigma)\n",
    "\n",
    "# Detect and remove NaNs\n",
    "Y = Y[~np.isnan(X).any(axis=1)]\n",
    "X = X[~np.isnan(X).any(axis=1)]\n",
    "X = X[~np.isnan(Y).any(axis=1)]\n",
    "Y = Y[~np.isnan(Y).any(axis=1)]\n",
    "print(X.shape)\n",
    "print(Y.shape)"
   ]
  },
  {
   "cell_type": "markdown",
   "metadata": {
    "colab_type": "text",
    "id": "MtkfxyZRSc1A"
   },
   "source": [
    "## Split into training and test sets\n",
    "Next, we have to split the data into a training and test set. We'll write our own implementation of the `trainTestSplit` function."
   ]
  },
  {
   "cell_type": "code",
   "execution_count": 2,
   "metadata": {
    "colab": {},
    "colab_type": "code",
    "id": "jsPnl41XNRm5"
   },
   "outputs": [],
   "source": [
    "def trainTestSplit(X, Y, trainingSize=0.8, randomState=0):\n",
    "  idx = np.arange(1, np.shape(X)[0])\n",
    "  trainIdx = np.random.choice(idx, \n",
    "                              size=round(trainingSize*np.shape(X)[0]), \n",
    "                              replace=False)\n",
    "  return X[trainIdx, :], Y[trainIdx, :], np.delete(X, trainIdx, axis=0), np.delete(Y, trainIdx, axis=0)"
   ]
  },
  {
   "cell_type": "code",
   "execution_count": 43,
   "metadata": {
    "colab": {},
    "colab_type": "code",
    "id": "vNkmi73AWSyt"
   },
   "outputs": [
    {
     "name": "stdout",
     "output_type": "stream",
     "text": [
      "[[-0.61402785 -0.45594594 -0.54692833  2.11279039]\n",
      " [-0.6170606  -0.57346487 -0.55071927  1.20827373]\n",
      " [-0.61364876 -0.53555553 -0.55981751  1.61541996]\n",
      " ...\n",
      " [-0.61326966 -0.5431374  -0.56057569  1.39933677]\n",
      " [-0.61425531 -0.55223564 -0.5772558   0.92395374]\n",
      " [-0.61478604 -0.47641698 -0.5545102   1.52140481]]\n",
      "[[18. ]\n",
      " [23.7]\n",
      " [23. ]\n",
      " [14. ]\n",
      " [28. ]\n",
      " [26. ]\n",
      " [32.1]\n",
      " [12. ]\n",
      " [13. ]\n",
      " [13. ]\n",
      " [18.5]\n",
      " [37. ]\n",
      " [20.5]\n",
      " [15. ]\n",
      " [36.1]\n",
      " [13. ]\n",
      " [22. ]\n",
      " [36.4]\n",
      " [20. ]\n",
      " [46.6]\n",
      " [21. ]\n",
      " [19. ]\n",
      " [25. ]\n",
      " [19.1]\n",
      " [23.9]\n",
      " [23. ]\n",
      " [13. ]\n",
      " [32. ]\n",
      " [29.5]\n",
      " [36. ]\n",
      " [39.1]\n",
      " [31. ]\n",
      " [29. ]\n",
      " [20.8]\n",
      " [22.5]\n",
      " [36. ]\n",
      " [18. ]\n",
      " [21.5]\n",
      " [27.2]\n",
      " [23. ]\n",
      " [34.2]\n",
      " [18. ]\n",
      " [35.1]\n",
      " [30.5]\n",
      " [28. ]\n",
      " [13. ]\n",
      " [41.5]\n",
      " [16. ]\n",
      " [15.5]\n",
      " [27. ]\n",
      " [19.8]\n",
      " [17.6]\n",
      " [13. ]\n",
      " [21. ]\n",
      " [25.4]\n",
      " [36. ]\n",
      " [21.1]\n",
      " [25. ]\n",
      " [19. ]\n",
      " [16. ]\n",
      " [44.3]\n",
      " [44.6]\n",
      " [32.2]\n",
      " [18. ]\n",
      " [38. ]\n",
      " [16. ]\n",
      " [38. ]\n",
      " [26. ]\n",
      " [30. ]\n",
      " [15. ]\n",
      " [15. ]\n",
      " [26. ]\n",
      " [16. ]\n",
      " [15. ]\n",
      " [18. ]\n",
      " [16. ]\n",
      " [20.2]\n",
      " [34. ]\n",
      " [22. ]\n",
      " [33. ]\n",
      " [29. ]\n",
      " [13. ]\n",
      " [25. ]\n",
      " [18. ]\n",
      " [29. ]\n",
      " [32. ]\n",
      " [24. ]\n",
      " [34. ]\n",
      " [26. ]\n",
      " [26.4]\n",
      " [28.4]\n",
      " [28. ]\n",
      " [26. ]\n",
      " [19.2]\n",
      " [27.2]\n",
      " [31. ]\n",
      " [28. ]\n",
      " [16. ]\n",
      " [13. ]\n",
      " [32.3]\n",
      " [27. ]\n",
      " [15. ]\n",
      " [10. ]\n",
      " [20. ]\n",
      " [20. ]\n",
      " [18. ]\n",
      " [32.9]\n",
      " [24.2]\n",
      " [15. ]\n",
      " [29. ]\n",
      " [22.4]\n",
      " [13. ]\n",
      " [16. ]\n",
      " [20.5]\n",
      " [20. ]\n",
      " [23. ]\n",
      " [21. ]\n",
      " [24. ]\n",
      " [16. ]\n",
      " [14. ]\n",
      " [17. ]\n",
      " [36.1]\n",
      " [28. ]\n",
      " [19.9]\n",
      " [38.1]\n",
      " [18.5]\n",
      " [12. ]\n",
      " [24. ]\n",
      " [16. ]\n",
      " [17. ]\n",
      " [32. ]\n",
      " [14. ]\n",
      " [26. ]\n",
      " [18.5]\n",
      " [27. ]\n",
      " [18. ]\n",
      " [33.5]\n",
      " [17.6]\n",
      " [18.6]\n",
      " [18. ]\n",
      " [27.5]\n",
      " [34.7]\n",
      " [26. ]\n",
      " [17.5]\n",
      " [11. ]\n",
      " [17. ]\n",
      " [21. ]\n",
      " [12. ]\n",
      " [18. ]\n",
      " [14. ]\n",
      " [27.9]\n",
      " [29. ]\n",
      " [29. ]\n",
      " [16.5]\n",
      " [32.7]\n",
      " [43.4]\n",
      " [13. ]\n",
      " [29.9]\n",
      " [32. ]\n",
      " [23. ]\n",
      " [29.8]\n",
      " [13. ]\n",
      " [35.7]\n",
      " [22.3]\n",
      " [17.7]\n",
      " [13. ]\n",
      " [37.2]\n",
      " [31. ]\n",
      " [30.5]\n",
      " [15. ]\n",
      " [15. ]\n",
      " [26.6]\n",
      " [15. ]\n",
      " [32. ]\n",
      " [18. ]\n",
      " [14. ]\n",
      " [24. ]\n",
      " [28.1]\n",
      " [26. ]\n",
      " [21.5]\n",
      " [27. ]\n",
      " [14. ]\n",
      " [44. ]\n",
      " [26. ]\n",
      " [18. ]\n",
      " [14. ]\n",
      " [13. ]\n",
      " [14. ]\n",
      " [24. ]\n",
      " [31.5]\n",
      " [16. ]\n",
      " [14. ]\n",
      " [23.9]\n",
      " [13. ]\n",
      " [19. ]\n",
      " [25. ]\n",
      " [33.7]\n",
      " [27. ]\n",
      " [34.1]\n",
      " [16.9]\n",
      " [19.2]\n",
      " [24. ]\n",
      " [18. ]\n",
      " [22. ]\n",
      " [19. ]\n",
      " [25. ]\n",
      " [33.8]\n",
      " [23. ]\n",
      " [21. ]\n",
      " [25.5]\n",
      " [24. ]\n",
      " [29.5]\n",
      " [26. ]\n",
      " [26. ]\n",
      " [13. ]\n",
      " [43.1]\n",
      " [17.5]\n",
      " [16.5]\n",
      " [10. ]\n",
      " [20. ]\n",
      " [37.7]\n",
      " [19. ]\n",
      " [15.5]\n",
      " [27. ]\n",
      " [34.5]\n",
      " [33. ]\n",
      " [15. ]\n",
      " [26. ]\n",
      " [31. ]\n",
      " [26.6]\n",
      " [30.9]\n",
      " [30. ]\n",
      " [15. ]\n",
      " [31. ]\n",
      " [ 9. ]\n",
      " [21. ]\n",
      " [35. ]\n",
      " [19. ]\n",
      " [13. ]\n",
      " [23. ]\n",
      " [26.8]\n",
      " [17. ]\n",
      " [18. ]\n",
      " [14. ]\n",
      " [12. ]\n",
      " [34.3]\n",
      " [37. ]\n",
      " [31. ]\n",
      " [26. ]\n",
      " [29.8]\n",
      " [21.6]\n",
      " [22. ]\n",
      " [14. ]\n",
      " [20. ]\n",
      " [15. ]\n",
      " [25.4]\n",
      " [31.3]\n",
      " [11. ]\n",
      " [17. ]\n",
      " [24. ]\n",
      " [27. ]\n",
      " [36. ]\n",
      " [15.5]\n",
      " [24.5]\n",
      " [24. ]\n",
      " [32.8]\n",
      " [22. ]\n",
      " [14. ]\n",
      " [25.1]\n",
      " [31.6]\n",
      " [18. ]\n",
      " [39.4]\n",
      " [14. ]\n",
      " [27.2]\n",
      " [17. ]\n",
      " [14. ]\n",
      " [15. ]\n",
      " [22. ]\n",
      " [19.2]\n",
      " [25. ]\n",
      " [32.4]\n",
      " [19. ]\n",
      " [14. ]\n",
      " [20.6]\n",
      " [12. ]\n",
      " [17. ]\n",
      " [24.5]\n",
      " [25.8]\n",
      " [30. ]\n",
      " [20. ]\n",
      " [21.5]\n",
      " [23.8]\n",
      " [15. ]\n",
      " [13. ]\n",
      " [19. ]\n",
      " [26. ]\n",
      " [23.5]\n",
      " [29. ]\n",
      " [16. ]\n",
      " [33.5]\n",
      " [24. ]\n",
      " [30. ]\n",
      " [14.5]\n",
      " [18. ]\n",
      " [33. ]\n",
      " [14. ]\n",
      " [11. ]\n",
      " [28. ]\n",
      " [16. ]\n",
      " [30. ]\n",
      " [13. ]\n",
      " [25. ]\n",
      " [34.4]\n",
      " [22. ]]\n"
     ]
    }
   ],
   "source": [
    "Xtrain, Ytrain, Xtest, Ytest = trainTestSplit(X, Y)\n",
    "print(Xtrain)\n",
    "print(Ytrain)"
   ]
  },
  {
   "cell_type": "markdown",
   "metadata": {
    "colab_type": "text",
    "id": "mXX03cw3Y0qW"
   },
   "source": [
    "## Initialize the regression coefficients and intercept to be small and random numbers\n",
    "First, we need to initialize the regression coefficients to be some small, arbitrary value with the size of the number of predictors. The intercept needs to be the number of samples in the dataset by one column."
   ]
  },
  {
   "cell_type": "code",
   "execution_count": 46,
   "metadata": {
    "colab": {},
    "colab_type": "code",
    "id": "gmeat_hEWWZg"
   },
   "outputs": [],
   "source": [
    "beta = np.multiply(np.random.normal(size=Xtrain.shape[1]), 0.01)\n",
    "intercept = np.multiply(np.random.normal(size=Xtrain.shape[0]), 0.01)"
   ]
  },
  {
   "cell_type": "markdown",
   "metadata": {
    "colab_type": "text",
    "id": "3iqWfWe4ZQ-b"
   },
   "source": [
    "## Define necessary training functions\n",
    "Included in this repository are some additional functions we need to run the linear regressor. Here are the necessary components: training phase (forward propagation), cost evaluation, and learning phase (backward propagation + gradient descent). "
   ]
  },
  {
   "cell_type": "code",
   "execution_count": 47,
   "metadata": {
    "colab": {},
    "colab_type": "code",
    "id": "cFFZ1LH1ZMFx"
   },
   "outputs": [],
   "source": [
    "def forwardProp(Xtrain, beta, intercept):\n",
    "  yhat = np.zeros((Xtrain.shape[0], 1))\n",
    "  yhat = np.dot(Xtrain, beta.T) + intercept\n",
    "  return yhat\n",
    "\n",
    "def costEvaluation(Ytrain, Yhat):\n",
    "  J = np.multiply(1 / Ytrain.shape[0], np.sum(np.square(Yhat - Ytrain)))\n",
    "  return J\n",
    "\n",
    "def backProp(Xtrain, Ytrain, Yhat, alpha, beta, intercept):\n",
    "  dB = np.dot(np.divide(2, Xtrain.shape[0]), -np.sum(np.dot(Xtrain.T, Ytrain-Yhat), axis=1))\n",
    "  dInt = np.dot(np.divide(2, Xtrain.shape[0]), -np.sum(Ytrain - Yhat, axis=1))\n",
    "\n",
    "  beta = beta - np.dot(alpha, dB.T)\n",
    "  intercept = intercept - np.dot(alpha, dInt)\n",
    "  return beta, intercept"
   ]
  },
  {
   "cell_type": "markdown",
   "metadata": {
    "colab_type": "text",
    "id": "xeqOXZ3XaalZ"
   },
   "source": [
    "# Train the linear regressor\n",
    "The next bit of code utilized all of the functions above to train a linear regressor. This for loop can be packaged into another function, but it is explicitly written below."
   ]
  },
  {
   "cell_type": "code",
   "execution_count": 50,
   "metadata": {
    "colab": {
     "base_uri": "https://localhost:8080/",
     "height": 199
    },
    "colab_type": "code",
    "id": "Yw-UdwZKZxF5",
    "outputId": "82ad6dfb-2585-4c44-c2bf-bd5fe7b291b3"
   },
   "outputs": [
    {
     "name": "stderr",
     "output_type": "stream",
     "text": [
      "/home/scampit/.local/lib/python3.7/site-packages/numpy/core/fromnumeric.py:90: RuntimeWarning: overflow encountered in reduce\n",
      "  return ufunc.reduce(obj, axis, dtype, out, **passkwargs)\n",
      "/home/scampit/.local/lib/python3.7/site-packages/ipykernel_launcher.py:7: RuntimeWarning: overflow encountered in square\n",
      "  import sys\n"
     ]
    },
    {
     "name": "stdout",
     "output_type": "stream",
     "text": [
      "[1.528483647744827e+194, 2.361844228042689e+194, 3.64957005969215e+194, 5.639390380812459e+194, 8.714101482376453e+194, 1.3465208030910524e+195, 2.080671514812921e+195, 3.2150962262267786e+195, 4.968032517534172e+195, 7.676705566054804e+195, 1.1862202620434343e+196, 1.832971836648852e+196, 2.832345611901917e+196, 4.376598431499456e+196, 6.762809506761146e+196, 1.0450031717684821e+197, 1.6147602973504205e+197, 2.495160673518886e+197, 3.855573360882646e+197, 5.957710899708671e+197, 9.20597686575516e+197, 1.4225263944405805e+198, 2.1981169107729718e+198, 3.396575256746798e+198, 5.248457631258415e+198, 8.110024193457219e+198, 1.2531775435651419e+199, 1.9364355989997294e+199, 2.9922199358965147e+199, 4.623639510346448e+199, 7.1445424399365084e+199, 1.103989326197041e+200, 1.705906910908947e+200, 2.6360022870071748e+200, 4.073204705762475e+200, 6.29399930979666e+200, 9.725616602494146e+200, 1.5028221905185692e+201, 2.3221916189209446e+201, 3.5882980361940895e+201, 5.544711595564797e+201, 8.567801884873254e+201, 1.3239142897379199e+202, 2.045739467513595e+202, 3.1611185115097405e+202, 4.884625047565181e+202, 7.547822635699257e+202, 1.1663050077584042e+203, 1.8021983779648148e+203, 2.784793833459903e+203, 4.303120449833027e+203, 6.649269825035974e+203, 1.027458787676964e+204, 1.5876503558327252e+204, 2.4532698368124444e+204, 3.7908427822932257e+204, 5.85768788432028e+204, 9.051419254415941e+204, 1.3986438358813054e+205, 2.1612130922942205e+205, 3.3395507208314992e+205, 5.160342150790517e+205, 7.973866348882712e+205, 1.2321381546396854e+206, 1.903925104452763e+206, 2.9419840540734705e+206, 4.546013997178902e+206, 7.024593907615518e+206, 1.0854546333894004e+207, 1.67726672408663e+207, 2.591746883924413e+207, 4.0048203507941094e+207, 6.188330404336821e+207, 9.562334846217503e+207, 1.4775915592209657e+208, 2.2832047308452762e+208, 3.528054698486994e+208, 5.451622356663578e+208, 8.423958486930387e+208, 1.301687313369892e+209, 2.011393888534638e+209, 3.1080470196492177e+209, 4.802617891708898e+209, 7.421103499381941e+209, 1.1467241073585087e+210, 1.7719415697499506e+210, 2.7380403939012207e+210, 4.230876077755026e+210, 6.537636342104868e+210, 1.0102089533260271e+211, 1.5609955586050513e+211, 2.412082298381977e+211, 3.7271989545998067e+211, 5.759344138667508e+211, 8.89945648505508e+211, 1.3751622376174384e+212, 2.124928845873554e+212, 3.283483560346026e+212, 5.0737060264389486e+212, 7.839994435668826e+212, 1.2114519925084941e+213, 1.871960423180579e+213, 2.89259157409809e+213, 4.469691725814939e+213, 6.906659171213174e+213, 1.0672311164503359e+214, 1.6491073725877288e+214, 2.5482344774284515e+214, 3.9375840893644465e+214, 6.084435556520082e+214, 9.401794400134631e+214, 1.4527845207873077e+215, 2.244872387135998e+215, 3.468822776136574e+215, 5.3600959774801166e+215, 8.282530051822791e+215, 1.2798335020037817e+216, 1.9776249317571566e+216, 3.0558665362206926e+216, 4.721987540325046e+216, 7.296511829525359e+216, 1.1274719474320905e+217, 1.7421927380456305e+217, 2.6920718900474e+217, 4.1598446043996546e+217, 6.427877055113949e+217, 9.932487235691657e+217, 1.5347882643257672e+218, 2.3715862506699415e+218, 3.664623632522704e+218, 5.6626514697706045e+218, 8.750044993303009e+218, 1.3520748679933986e+219, 2.0892537696189394e+219, 3.2283577020738327e+219, 4.98852442154041e+219, 7.708370075694899e+219, 1.1911131269057818e+220, 1.8405323916150618e+220, 2.844028336237297e+220, 4.3946508163450785e+220, 6.790704421445353e+220, 1.0493135511000404e+221, 1.6214207837481236e+221, 2.505452593473398e+221, 3.8714766463223735e+221, 5.982284981988293e+221, 9.243949240845477e+221, 1.4283939635875873e+222, 2.2071835987568085e+222, 3.410585288658937e+222, 5.2701062194230345e+222, 8.14347603514183e+222, 1.258346590634554e+223, 1.9444229163670972e+223, 3.0045621022320825e+223, 4.642710878472771e+223, 7.174011908449624e+223, 1.1085430088101257e+224, 1.7129433545188757e+224, 2.646875143743703e+224, 4.090005666612396e+224, 6.319960498499919e+224, 9.765732362831125e+224, 1.509020959942451e+225, 2.3317700843539015e+225, 3.6030988770991995e+225, 5.567582157977089e+225, 8.603141946185176e+225, 1.3293751083702535e+226, 2.0541776362739835e+226, 3.174157342648943e+226, 4.904772916410218e+226, 7.57895553516417e+226, 1.1711157271280189e+227, 1.8096320000337333e+227, 2.7962804184834522e+227, 4.320869756198077e+227, 6.6766964166464934e+227, 1.0316968007682894e+228, 1.5941990204343274e+228, 2.463388967438083e+228, 3.8064790701241346e+228, 5.881849396428006e+228, 9.088754117629302e+228, 1.4044128953877864e+229, 2.1701275611645411e+229, 3.353325540652761e+229, 5.181627284416365e+229, 8.006756573172323e+229, 1.2372204194393161e+230, 1.9117783240800085e+230, 2.9541190098353634e+230, 4.56476517928417e+230, 7.0535686181331305e+230, 1.0899318649840074e+231, 1.6841850340174784e+231, 2.6024371980812555e+231, 4.021339243112358e+231, 6.213855734969617e+231, 9.601777109739854e+231, 1.483686258538073e+232, 2.2926223850184206e+232, 3.54260705054085e+232, 5.474108949015118e+232, 8.458705229842683e+232, 1.3070564512283026e+233, 2.0196903902860055e+233, 3.1208669440254593e+233, 4.822427501341716e+233, 7.451713713786318e+233, 1.1514540603623751e+234, 1.7792503899768318e+234, 2.74933413256315e+234, 4.248327393973591e+234, 6.564602473239721e+234, 1.014375815121864e+235, 1.5674342787680507e+235, 2.422031540609986e+235, 3.7425727274002463e+235, 5.783100007175177e+235, 8.936164539472124e+235, 1.3808344413453282e+236, 2.133693651211684e+236, 3.297027117013004e+236, 5.094633807503711e+236, 7.8723324714642865e+236, 1.2164489320114078e+237, 1.87968179641231e+237, 2.904522798110093e+237, 4.488128097448885e+237, 6.93514743014478e+237, 1.0716331805498682e+238, 1.655909532166141e+238, 2.5587453136825394e+238, 3.953825648752567e+238, 6.109532346630883e+238, 9.440574474068063e+238, 1.4587768972133092e+239, 2.254131929882754e+239, 3.483130811177058e+239, 5.382205046180235e+239, 8.316693437459145e+239, 1.2851124983014953e+240, 1.9857821449232964e+240, 3.0684712290231247e+240, 4.741464569723169e+240, 7.326608134141535e+240, 1.1321224900432609e+241, 1.7493788517077977e+241, 2.7031760200131285e+241, 4.1770029333786323e+241, 6.454390456367307e+241, 9.973456286167547e+241, 1.5411188858890168e+242, 2.3813684567283064e+242, 3.679739297613765e+242, 5.686008504961017e+242, 8.786136762312166e+242, 1.3576518420382222e+243, 2.097871424100979e+243, 3.2416738782250815e+243, 5.009100849576675e+243, 7.740165193596811e+243, 1.1960261736241668e+244, 1.8481241319984433e+244, 2.855759248917814e+244, 4.4127776628082605e+244, 6.818714395745596e+244, 1.0536417096790517e+245, 1.628108743003019e+245, 2.5157869650493497e+245, 3.88744552887674e+245, 6.00696042627255e+245, 9.28207824258072e+245, 1.4342857350044625e+246, 2.2162876845835853e+246, 3.424653108483708e+246, 5.2918441026534515e+246, 8.177065857390421e+246, 1.2635369587432254e+247, 1.9524431794408767e+247, 3.016955176947757e+247, 4.661860911270375e+247, 7.203602931223462e+247, 1.1131154742364569e+248, 1.7200088217164062e+248, 2.65779284832205e+248, 4.1068759272657486e+248, 6.346028770678356e+248, 9.806013590746474e+248, 1.5152452977553365e+249, 2.341388058585055e+249, 3.617960767808224e+249, 5.5905470557963774e+249, 8.638627776499484e+249, 1.3348584515272973e+250, 2.0626506103911424e+250, 3.1872499557380586e+250, 4.925003890225443e+250, 7.610216850130587e+250, 1.1759462895238536e+251, 1.8170962839530523e+251, 2.8078143828260386e+251, 4.3386922740569876e+251, 6.704236136156322e+251, 1.0359522946142437e+252, 1.6007746966559008e+252, 2.4735498369719603e+252, 3.822179853770658e+252, 5.9061105687905654e+252, 9.12624297790897e+252, 1.4102057508362614e+253, 2.179078800011652e+253, 3.367157178195025e+253, 5.203000213948048e+253, 8.039782461493246e+253, 1.242323647322836e+254, 1.919663936293696e+254, 2.9663040192850615e+254, 4.583593705372672e+254, 7.082662842157241e+254, 1.0944275640503409e+255, 1.6911318802637589e+255, 2.613171607136976e+255, 4.037926271771193e+255, 6.239486351270976e+255, 9.64138206283298e+255, 1.489806096980762e+256, 2.302078884683133e+256, 3.5572194274436323e+256, 5.496688292992238e+256, 8.493595294465896e+256, 1.3124477354509342e+257, 2.028021113052811e+257, 3.133739747415431e+257, 4.842318820709241e+257, 7.48245018774576e+257, 1.1562035232512064e+258, 1.7865893572774231e+258, 2.7606744551006326e+258, 4.265850692550458e+258, 6.591679832988453e+258, 1.0185598641908572e+259, 1.5738995570574397e+259, 2.4320218209986653e+259, 3.75800991320681e+259, 5.8069538627582944e+259, 8.973024005524428e+259, 1.3865300415091132e+260, 2.1424946092015993e+260, 3.310626537497739e+260, 5.115647910483477e+260, 7.904803893650247e+260, 1.221466482652489e+261, 1.8874350183967482e+261, 2.9165032354668783e+261, 4.50664051455083e+261, 6.963753196090568e+261, 1.0760534020738273e+262, 1.66273974896855e+262, 2.5692995045336162e+262, 3.9701342005516376e+262, 6.134732654786753e+262, 9.479514506204264e+262, 1.464793990708315e+263, 2.2634296659506127e+263, 3.497497863319317e+263, 5.404405309314385e+263, 8.350997738602166e+263, 1.2904132691518251e+264, 1.9939730045739696e+264, 3.081127913062363e+264, 4.761021937044918e+264, 7.356828578562213e+264, 1.1367922149911965e+265, 1.7565946063094928e+265, 2.714325951765509e+265, 4.194232036216128e+265, 6.481013218835938e+265, 1.0014594323832422e+266, 1.5474756196987087e+266, 2.3911910119645218e+266, 3.694917311080583e+266, 5.70946188213823e+266, 8.822377400931909e+266, 1.3632518197200848e+267, 2.1065246242739663e+267, 3.255044980305777e+267, 5.029762150283718e+267, 7.772091458487367e+267, 1.2009594854437589e+268, 1.8557471864311357e+268, 2.8675385487084732e+268, 4.430979278024754e+268, 6.846839904254355e+268, 1.0579877208405172e+269, 1.6348242884338523e+269, 2.5261639633491834e+269, 3.9034802791176314e+269, 6.031737650654654e+269, 9.320364517007095e+269, 1.4402018085195824e+270, 2.225429322510152e+270, 3.438778954581946e+270, 5.313671649269711e+270, 8.2107942293386675e+270, 1.2687487358351673e+271, 1.960496524113951e+271, 3.0293993700280085e+271, 4.681089933211568e+271, 7.233316009639258e+271, 1.1177067999504917e+272, 1.727103432216661e+272, 2.668755585728473e+272, 4.123815773567088e+272, 6.372204568024815e+272, 9.846460968753013e+272, 1.5214953094205016e+273, 2.3510457045784246e+273, 3.6328839601364986e+273, 5.613606678132872e+273, 8.674259977077267e+273, 1.3403644121171446e+274, 2.0711585334285592e+274, 3.2003965726143342e+274, 4.94531831179831e+274, 7.641607110280698e+274, 1.1807967767934868e+275, 1.8245913561953215e+275, 2.819395921915638e+275, 4.3565883053890715e+275, 6.731889450190085e+275, 1.04022534131862e+276, 1.6073774959137008e+276, 2.483752617576756e+276, 3.8379453992620796e+276, 5.930471812481852e+276, 9.163886470454739e+276, 1.416022500379103e+277, 2.1880669605026064e+277, 3.3810458678173193e+277, 5.224461301521923e+277, 8.072944573425981e+277, 1.2474479247577689e+278, 1.9275820747052137e+278, 2.9785392888816176e+278, 4.6024998944691714e+278, 7.111877072651454e+278, 1.0989418067621467e+279, 1.6981073805307022e+279, 2.623950292972115e+279, 4.0545817178161493e+279, 6.265222687518207e+279, 9.681150376551065e+279, 1.495951178241698e+280, 2.3115743900674455e+280, 3.571892076782981e+280, 5.519360771172401e+280, 8.528629271966574e+280, 1.3178612573860526e+281, 2.0363861979882675e+281, 3.146665647931962e+281, 4.862292186843882e+281, 7.51331344204965e+281, 1.1609725764984436e+282, 1.7939585960009362e+282, 2.7720615536606193e+282, 4.2834462703950394e+282, 6.618868880141568e+282, 1.0227611714262547e+283, 1.5803915030189134e+283, 2.4420533088202706e+283, 3.773510773582449e+283, 5.8309061095892724e+283, 9.010035507747476e+283, 1.3922491346132933e+284, 2.1513318689640282e+284, 3.324282052224642e+284, 5.136748691434762e+284, 7.937409252412516e+284, 1.226504729447576e+285, 1.8952202205021077e+285, 2.928533089161302e+285, 4.525229290789484e+285, 6.992476953737846e+285, 1.080491855917086e+286, 1.6695981387240455e+286, 2.5798972288086414e+286, 3.986510021088734e+286, 6.160036907973935e+286, 9.518615156331107e+286, 1.470835903224099e+287, 2.272765752877548e+287, 3.511924175994247e+287, 5.426697143036973e+287, 8.385443536493349e+287, 1.2957359043693905e+288, 2.002197649492568e+288, 3.0938368027893513e+288, 4.7806599736642885e+288, 7.387173674833267e+288, 1.1414812013982761e+289, 1.763840124112232e+289, 2.725521874225541e+289, 4.211532204836747e+289, 6.507745793607717e+289, 1.0055902045716534e+290, 1.5538585734613817e+290, 2.4010540828089364e+290, 3.7101579300947464e+290, 5.733011998689041e+290, 8.858767523212459e+290, 1.3688748959232808e+291, 2.1152135167550596e+291, 3.2684712348717525e+291, 5.050508673740264e+291, 7.804149411315382e+291, 1.2059131459530764e+292, 1.8634016840758263e+292, 2.8793664351941125e+292, 4.449255970397138e+292, 6.875081423521574e+292, 1.0623516582219116e+293, 1.641567533826757e+293, 2.5365837641975637e+293, 3.9195811687329115e+293, 6.0566170749522636e+293, 9.358808712835453e+293, 1.4461422843730808e+294, 2.2346086674296176e+294, 3.4529630662976576e+294, 5.335589229111072e+294, 8.244661722469755e+294, 1.2739820102171314e+295, 1.9685830868397247e+295, 3.0418948923234225e+295, 4.700398270106991e+295, 7.263151647146306e+295, 1.122317063746245e+296, 1.734227306228543e+296, 2.6797635417122285e+296, 4.14082549253997e+296, 6.398488334053981e+296, 9.887075182178713e+296, 1.5277711008362303e+297, 2.3607431859702007e+297, 3.6478687069380184e+297, 5.636761415701749e+297, 8.710039151659588e+297, 1.3458930834311019e+298, 2.0797015495418698e+298, 3.2135974160300085e+298, 4.9657165253301395e+298, 7.673126847481431e+298, 1.1856672711220852e+299, 1.83211734375475e+299, 2.831025231986295e+299, 4.374558153419193e+299, 6.759656827297042e+299, 1.0445160132826098e+300, 1.6140075300835296e+300, 2.4939974821252542e+300, 3.853775973724979e+300, 5.954933540271327e+300, 9.201685233086422e+300, 1.4218632425735324e+301, 2.197092194930041e+301, 3.3949918448453517e+301, 5.246010910768105e+301, 8.106243470859242e+301, 1.252593338568311e+302, 1.9355328734770876e+302, 2.990825025935716e+302, 4.621484066914381e+302, 7.14121180461279e+302, 1.1034746696073782e+303, 1.7051116530090584e+303, 2.6347734382174406e+303, 4.071305863452024e+303, 6.291065179779944e+303, 9.721082724716303e+303, 1.502121606441269e+304, 2.3211090620603136e+304, 3.5866252471678005e+304, 5.542126767711193e+304, 8.56380775594978e+304, 1.3232971087587251e+305, 2.044785786827827e+305, 3.1596448645875762e+305, 4.882347938168281e+305, inf, inf, inf, inf, inf, inf, inf, inf, inf, inf, inf, inf, inf, inf, inf, inf, inf, inf, inf, inf, inf, inf, inf, inf, inf, inf, inf, inf, inf, inf, inf, inf, inf, inf, inf, inf, inf, inf, inf, inf, inf, inf, inf, inf, inf, inf, inf, inf, inf, inf, inf, inf, inf, inf, inf, inf, inf, inf, inf, inf, inf, inf, inf, inf, inf, inf, inf, inf, inf, inf, inf, inf, inf, inf, inf, inf, inf, inf, inf, inf, inf, inf, inf, inf, inf, inf, inf, inf, inf, inf, inf, inf, inf, inf, inf, inf, inf, inf, inf, inf, inf, inf, inf, inf, inf, inf, inf, inf, inf, inf, inf, inf, inf, inf, inf, inf, inf, inf, inf, inf, inf, inf, inf, inf, inf, inf, inf, inf, inf, inf, inf, inf, inf, inf, inf, inf, inf, inf, inf, inf, inf, inf, inf, inf, inf, inf, inf, inf, inf, inf, inf, inf, inf, inf, inf, inf, inf, inf, inf, inf, inf, inf, inf, inf, inf, inf, inf, inf, inf, inf, inf, inf, inf, inf, inf, inf, inf, inf, inf, inf, inf, inf, inf, inf, inf, inf, inf, inf, inf, inf, inf, inf, inf, inf, inf, inf, inf, inf, inf, inf, inf, inf, inf, inf, inf, inf, inf, inf, inf, inf, inf, inf, inf, inf, inf, inf, inf, inf, inf, inf, inf, inf, inf, inf, inf, inf, inf, inf, inf, inf, inf, inf, inf, inf, inf, inf, inf, inf, inf, inf, inf, inf, inf, inf, inf, inf, inf, inf, inf, inf, inf, inf, inf, inf, inf, inf, inf, inf, inf, inf, inf, inf, inf, inf, inf, inf, inf, inf, inf, inf, inf, inf, inf, inf, inf, inf, inf, inf, inf, inf, inf, inf, inf, inf, inf, inf, inf, inf, inf, inf, inf, inf, inf, inf, inf, inf, inf, inf, inf, inf, inf, inf, inf, inf, inf, inf, inf, inf, inf, inf, inf, inf, inf, inf, inf, inf, inf, inf, inf, inf, inf, inf, inf, inf, inf, inf, inf, inf, inf, inf, inf, inf, inf, inf, inf, inf, inf, inf, inf, inf, inf, inf, inf, inf, inf, inf, inf, inf, inf, inf, inf, inf, inf, inf, inf, inf, inf, inf, inf, inf, inf, inf, inf, inf, inf, inf, inf, inf, inf, inf, inf, inf, inf, inf, inf, inf, inf, inf, inf, inf, inf, inf, inf, inf, inf, inf, inf, inf, inf, inf, inf, inf, inf, inf, inf, inf, inf, inf, inf, inf, inf, inf, inf, inf, inf, inf, inf, inf, inf]\n"
     ]
    }
   ],
   "source": [
    "epochs = 1000\n",
    "alpha = 0.001\n",
    "\n",
    "J = list()\n",
    "for i in range(epochs):\n",
    "  yhat = forwardProp(Xtrain, beta, intercept)\n",
    "  J.append(costEvaluation(Ytrain, yhat))\n",
    "  beta, intercept = backProp(Xtrain, Ytrain, yhat, alpha, beta, intercept)\n",
    "print(J)"
   ]
  },
  {
   "cell_type": "markdown",
   "metadata": {
    "colab_type": "text",
    "id": "5wQ937s1dkSq"
   },
   "source": [
    "## Plot the MSE curve\n",
    "Let's now see how the error or cost reduces with each iteration."
   ]
  },
  {
   "cell_type": "code",
   "execution_count": 49,
   "metadata": {
    "colab": {
     "base_uri": "https://localhost:8080/",
     "height": 313
    },
    "colab_type": "code",
    "id": "66EuwANPa9FE",
    "outputId": "f398a2e5-5078-4c76-80ee-782355bb7a37"
   },
   "outputs": [
    {
     "data": {
      "text/plain": [
       "Text(0, 0.5, 'Cost (J)')"
      ]
     },
     "execution_count": 49,
     "metadata": {},
     "output_type": "execute_result"
    },
    {
     "data": {
      "image/png": "[encoded data removed]",
      "text/plain": [
       "<Figure size 432x288 with 1 Axes>"
      ]
     },
     "metadata": {
      "needs_background": "light"
     },
     "output_type": "display_data"
    }
   ],
   "source": [
    "import matplotlib.pyplot as plt\n",
    "plt.plot(J)\n",
    "plt.title(\"Cost with learning rate = 0.001\")\n",
    "plt.xlabel(\"Number of Epochs\")\n",
    "plt.ylabel(\"Cost (J)\")"
   ]
  },
  {
   "cell_type": "code",
   "execution_count": null,
   "metadata": {
    "colab": {},
    "colab_type": "code",
    "id": "Zouv9kDSdxKa"
   },
   "outputs": [],
   "source": []
  }
 ],
 "metadata": {
  "colab": {
   "collapsed_sections": [],
   "name": "LinearRegressionTutorial.ipynb",
   "provenance": [],
   "toc_visible": true
  },
  "hide_input": false,
  "kernelspec": {
   "display_name": "Python 3",
   "language": "python",
   "name": "python3"
  },
  "latex_envs": {
   "LaTeX_envs_menu_present": true,
   "autoclose": false,
   "autocomplete": true,
   "bibliofile": "biblio.bib",
   "cite_by": "apalike",
   "current_citInitial": 1,
   "eqLabelWithNumbers": true,
   "eqNumInitial": 1,
   "hotkeys": {
    "equation": "Ctrl-E",
    "itemize": "Ctrl-I"
   },
   "labels_anchors": false,
   "latex_user_defs": false,
   "report_style_numbering": false,
   "user_envs_cfg": false
  }
 },
 "nbformat": 4,
 "nbformat_minor": 1
}
